{
  "nbformat": 4,
  "nbformat_minor": 0,
  "metadata": {
    "colab": {
      "provenance": []
    },
    "kernelspec": {
      "name": "python3",
      "display_name": "Python 3"
    },
    "language_info": {
      "name": "python"
    }
  },
  "cells": [
    {
      "cell_type": "code",
      "execution_count": null,
      "metadata": {
        "id": "UlLwhBUkqYGX",
        "outputId": "9ead4b7a-cf7a-460b-cfbf-752f9a04aafe",
        "colab": {
          "base_uri": "https://localhost:8080/",
          "height": 384
        }
      },
      "outputs": [
        {
          "output_type": "error",
          "ename": "ModuleNotFoundError",
          "evalue": "ignored",
          "traceback": [
            "\u001b[0;31m---------------------------------------------------------------------------\u001b[0m",
            "\u001b[0;31mModuleNotFoundError\u001b[0m                       Traceback (most recent call last)",
            "\u001b[0;32m<ipython-input-1-41a7ff5a68fc>\u001b[0m in \u001b[0;36m<cell line: 2>\u001b[0;34m()\u001b[0m\n\u001b[1;32m      1\u001b[0m \u001b[0;32mimport\u001b[0m \u001b[0mcv2\u001b[0m\u001b[0;34m\u001b[0m\u001b[0;34m\u001b[0m\u001b[0m\n\u001b[0;32m----> 2\u001b[0;31m \u001b[0;32mimport\u001b[0m \u001b[0mmediapipe\u001b[0m \u001b[0;32mas\u001b[0m \u001b[0mmp\u001b[0m\u001b[0;34m\u001b[0m\u001b[0;34m\u001b[0m\u001b[0m\n\u001b[0m\u001b[1;32m      3\u001b[0m \u001b[0;32mimport\u001b[0m \u001b[0mnumpy\u001b[0m \u001b[0;32mas\u001b[0m \u001b[0mnp\u001b[0m\u001b[0;34m\u001b[0m\u001b[0;34m\u001b[0m\u001b[0m\n\u001b[1;32m      4\u001b[0m \u001b[0;34m\u001b[0m\u001b[0m\n\u001b[1;32m      5\u001b[0m \u001b[0;31m# 初始化 Mediapipe 姿勢偵測\u001b[0m\u001b[0;34m\u001b[0m\u001b[0;34m\u001b[0m\u001b[0m\n",
            "\u001b[0;31mModuleNotFoundError\u001b[0m: No module named 'mediapipe'",
            "",
            "\u001b[0;31m---------------------------------------------------------------------------\u001b[0;32m\nNOTE: If your import is failing due to a missing package, you can\nmanually install dependencies using either !pip or !apt.\n\nTo view examples of installing some common dependencies, click the\n\"Open Examples\" button below.\n\u001b[0;31m---------------------------------------------------------------------------\u001b[0m\n"
          ],
          "errorDetails": {
            "actions": [
              {
                "action": "open_url",
                "actionText": "Open Examples",
                "url": "/notebooks/snippets/importing_libraries.ipynb"
              }
            ]
          }
        }
      ],
      "source": [
        "import cv2\n",
        "import mediapipe as mp\n",
        "import numpy as np\n",
        "\n",
        "# 初始化 Mediapipe 姿勢偵測\n",
        "mp_pose = mp.solutions.pose\n",
        "\n",
        "# 計算三點之間角度的函數\n",
        "def calculate_angle(a, b, c):\n",
        "    a = np.array(a)  # 第一點\n",
        "    b = np.array(b)  # 中間點\n",
        "    c = np.array(c)  # 第三點\n",
        "\n",
        "    radians = np.arctan2(c[1] - b[1], c[0] - b[0]) - np.arctan2(a[1] - b[1], a[0] - b[0])\n",
        "    angle = np.abs(radians * 180.0 / np.pi)\n",
        "\n",
        "    if angle > 180.0:\n",
        "        angle = 360 - angle\n",
        "\n",
        "    return angle\n",
        "\n",
        "# 處理視頻檔案\n",
        "cap = cv2.VideoCapture('./video/test5.mp4')\n",
        "\n",
        "# 姿勢偵測\n",
        "with mp_pose.Pose(min_detection_confidence=0.5, min_tracking_confidence=0.5) as pose:\n",
        "    while cap.isOpened():\n",
        "        ret, frame = cap.read()\n",
        "        if not ret:\n",
        "            break\n",
        "\n",
        "        # 轉換顏色空間並處理圖像\n",
        "        image = cv2.cvtColor(frame, cv2.COLOR_BGR2RGB)\n",
        "        results = pose.process(image)\n",
        "        image = cv2.cvtColor(image, cv2.COLOR_RGB2BGR)\n",
        "\n",
        "        # 提取關節點座標並計算角度\n",
        "        if results.pose_landmarks:\n",
        "            landmarks = results.pose_landmarks.landmark\n",
        "            shoulder = [landmarks[11].x, landmarks[11].y]\n",
        "            elbow = [landmarks[13].x, landmarks[13].y]\n",
        "            wrist = [landmarks[15].x, landmarks[15].y]\n",
        "\n",
        "            # 繪製點和連線\n",
        "            for landmark in [shoulder, elbow, wrist]:\n",
        "                x, y = int(landmark[0] * frame.shape[1]), int(landmark[1] * frame.shape[0])\n",
        "                cv2.circle(image, (x, y), 5, (255, 0, 0), -1)\n",
        "\n",
        "            cv2.line(image, (int(shoulder[0] * frame.shape[1]), int(shoulder[1] * frame.shape[0])),\n",
        "                           (int(elbow[0] * frame.shape[1]), int(elbow[1] * frame.shape[0])), (255, 0, 0), 2)\n",
        "            cv2.line(image, (int(elbow[0] * frame.shape[1]), int(elbow[1] * frame.shape[0])),\n",
        "                           (int(wrist[0] * frame.shape[1]), int(wrist[1] * frame.shape[0])), (255, 0, 0), 2)\n",
        "\n",
        "            angle = calculate_angle(shoulder, elbow, wrist)\n",
        "\n",
        "            # 顯示角度\n",
        "            cv2.putText(image, str(int(angle)),\n",
        "                        tuple(np.multiply(elbow, [frame.shape[1], frame.shape[0]]).astype(int)),\n",
        "                        cv2.FONT_HERSHEY_SIMPLEX, 0.5, (255, 255, 255), 2, cv2.LINE_AA)\n",
        "\n",
        "        # 顯示處理後的影像\n",
        "        cv2.imshow('MediaPipe Pose', image)\n",
        "\n",
        "        # 按下 'ESC' 鍵退出\n",
        "        if cv2.waitKey(1) & 0xFF == ord('q'):\n",
        "            break\n",
        "\n",
        "cap.release()\n",
        "cv2.destroyAllWindows()"
      ]
    }
  ]
}